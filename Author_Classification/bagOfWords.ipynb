{
 "cells": [
  {
   "cell_type": "code",
   "execution_count": 3,
   "metadata": {},
   "outputs": [
    {
     "name": "stdout",
     "output_type": "stream",
     "text": [
      "{'24': ['1.docx', '10.docx', '11.docx', '12.docx', '13.docx', '14.docx', '2.docx', '3.docx', '4.docx', '5.docx', '6.docx', '7.docx', '8.docx', '9.docx'], '25': ['1.docx', '2.docx', '3.docx', '4.docx', '5.docx', '6.docx', '7.docx', '8.docx'], '26': ['1.docx', '2.docx', '3.docx', '4.docx', '5.docx', '6.docx', '7.docx'], '20': ['1.docx', '2.docx', '3.docx', '4.docx', '5.docx', '6.docx', '7.docx'], '21': ['1.docx', '2.docx', '3.docx', '4.docx', '5.docx', '6.docx', '7.docx', '8.docx', '9.docx'], '22': ['1.docx', '2.docx', '3.docx', '4.docx', '5.docx', '6.docx', '7.docx'], '23': ['1.docx', '10.docx', '11.docx', '12.docx', '13.docx', '14.docx', '15.docx', '2.docx', '3.docx', '4.docx', '5.docx', '6.docx', '7.docx', '8.docx', '9.docx'], '28': ['1.docx', '10.docx', '2.docx', '3.docx', '4.docx', '5.docx', '6.docx', '7.docx', '8.docx', '9.docx'], '29': ['1.docx', '2.docx', '3.docx', '4.docx', '5.docx', '6.docx', '7.docx'], '4': ['1.docx', '10.docx', '11.docx', '2.docx', '3.docx', '4.docx', '5.docx', '6.docx', '7.docx', '8.docx', '9.docx'], '8': ['1.docx', '10.docx', '11.docx', '12.docx', '13.docx', '2.docx', '3.docx', '4.docx', '5.docx', '6.docx', '7.docx', '8.docx', '9.docx'], '59': ['1.docx', '2.docx', '3.docx', '4.docx', '5.docx', '6.docx', '7.docx'], '58': ['1.docx', '10.docx', '11.docx', '12.docx', '2.docx', '3.docx', '4.docx', '5.docx', '6.docx', '7.docx', '8.docx', '9.docx'], '55': ['1.docx', '10.docx', '11.docx', '12.docx', '2.docx', '3.docx', '4.docx', '5.docx', '6.docx', '7.docx', '8.docx', '9.docx'], '54': ['1.docx', '10.docx', '11.docx', '12.docx', '13.docx', '14.docx', '2.docx', '3.docx', '4.docx', '5.docx', '6.docx', '7.docx', '8.docx', '9.docx'], '57': ['1.docx', '10.docx', '11.docx', '12.docx', '13.docx', '14.docx', '15.docx', '16.docx', '2.docx', '3.docx', '4.docx', '5.docx', '6.docx', '7.docx', '8.docx'], '56': ['1.docx', '10.docx', '11.docx', '12.docx', '2.docx', '3.docx', '4.docx', '5.docx', '6.docx', '7.docx', '8.docx', '9.docx'], '51': ['1.docx', '2.docx', '3.docx', '4.docx', '5.docx', '6.docx'], '50': ['1.docx', '2.docx', '3.docx', '4.docx', '5.docx', '6.docx', '7.docx', '8.docx', '9.docx'], '53': ['1.docx', '10.docx', '11.docx', '12.docx', '13.docx', '14.docx', '2.docx', '4.docx', '6.docx', '7.docx', '8.docx', '9.docx'], '88': ['1.docx', '10.docx', '11.docx', '2.docx', '3.docx', '4.docx', '5.docx', '6.docx', '8.docx', '9.docx'], '89': ['1.docx', '10.docx', '2.docx', '3.docx', '4.docx', '5.docx', '6.docx', '7.docx', '8.docx', '9.docx'], '83': ['1.docx', '10.docx', '2.docx', '3.docx', '4.docx', '5.docx', '6.docx', '7.docx', '8.docx', '9.docx'], '80': ['1.docx', '10.docx', '11.docx', '12.docx', '2.docx', '3.docx', '4.docx', '5.docx', '6.docx', '7.docx', '8.docx', '9.docx'], '81': ['1.docx', '10.docx', '11.docx', '12.docx', '13.docx', '14.docx', '2.docx', '3.docx', '4.docx', '5.docx', '6.docx', '7.docx', '8.docx', '9.docx'], '87': ['1.docx', '10.docx', '11.docx', '2.docx', '3.docx', '4.docx', '5.docx', '6.docx', '7.docx', '8.docx', '9.docx'], '84': ['1.docx', '2.docx', '3.docx', '4.docx', '5.docx'], '85': ['1.docx', '10.docx', '2.docx', '3.docx', '4.docx', '5.docx', '6.docx', '7.docx', '8.docx', '9.docx'], '3': ['1.docx', '2.docx', '3.docx', '4.docx', '5.docx', '6.docx', '7.docx', '8.docx', '9.docx'], '7': ['1.docx', '10.docx', '11.docx', '12.docx', '13.docx', '2.docx', '3.docx', '4.docx', '5.docx', '6.docx', '7.docx', '8.docx', '9.docx'], '102': ['1.docx', '2.docx', '3.docx', '4.docx', '5.docx', '6.docx', '7.docx'], '103': ['1.docx', '2.docx', '3.docx', '4.docx', '5.docx', '6.docx'], '100': ['1.docx', '10.docx', '2.docx', '3.docx', '4.docx', '5.docx', '6.docx', '7.docx', '8.docx', '9.docx'], '101': ['1.docx', '2.docx', '3.docx', '4.docx', '5.docx', '6.docx'], '39': ['1.docx', '10.docx', '11.docx', '12.docx', '13.docx', '14.docx', '2.docx', '3.docx', '4.docx', '5.docx', '6.docx', '7.docx', '8.docx', '9.docx'], '38': ['1.docx', '2.docx', '3.docx', '4.docx', '5.docx', '6.docx', '7.docx'], '33': ['1.docx', '2.docx', '3.docx', '4.docx', '5.docx', '6.docx', '7.docx', '8.docx'], '32': ['1.docx', '10.docx', '11.docx', '12.docx', '2.docx', '3.docx', '4.docx', '5.docx', '6.docx', '7.docx', '8.docx', '9.docx'], '31': ['1.docx', '10.docx', '11.docx', '12.docx', '2.docx', '3.docx', '4.docx', '5.docx', '6.docx', '7.docx', '8.docx', '9.docx'], '30': ['1.docx', '10.docx', '2.docx', '3.docx', '4.docx', '5.docx', '6.docx', '7.docx', '8.docx', '9.docx'], '37': ['1.docx', '10.docx', '11.docx', '12.docx', '13.docx', '14.docx', '15.docx', '2.docx', '3.docx', '4.docx', '5.docx', '6.docx', '7.docx', '8.docx', '9.docx'], '36': ['1.docx', '10.docx', '11.docx', '12.docx', '13.docx', '2.docx', '3.docx', '4.docx', '5.docx', '6.docx', '7.docx', '8.docx', '9.docx'], '35': ['1.docx', '10.docx', '11.docx', '2.docx', '3.docx', '4.docx', '5.docx', '6.docx', '8.docx', '9.docx'], '34': ['1.docx', '10.docx', '11.docx', '12.docx', '13.docx', '14.docx', '15.docx', '16.docx', '2.docx', '3.docx', '4.docx', '5.docx', '6.docx', '7.docx', '8.docx', '9.docx'], '60': ['1.docx', '10.docx', '11.docx', '12.docx', '13.docx', '14.docx', '15.docx', '2.docx', '3.docx', '4.docx', '5.docx', '6.docx', '7.docx', '8.docx', '9.docx'], '61': ['1.docx', '10.docx', '11.docx', '2.docx', '3.docx', '4.docx', '5.docx', '6.docx', '7.docx', '8.docx', '9.docx'], '62': ['1.docx', '10.docx', '11.docx', '12.docx', '2.docx', '3.docx', '4.docx', '5.docx', '6.docx', '7.docx', '8.docx', '9.docx'], '63': ['1.docx', '2.docx', '3.docx', '4.docx', '5.docx', '6.docx', '7.docx', '8.docx', '9.docx'], '64': ['1.docx', '10.docx', '11.docx', '12.docx', '13.docx', '14.docx', '15.docx', '2.docx', '3.docx', '4.docx', '5.docx', '6.docx', '7.docx', '8.docx', '9.docx'], '65': ['1.docx', '10.docx', '11.docx', '2.docx', '3.docx', '4.docx', '5.docx', '6.docx', '7.docx', '8.docx', '9.docx'], '66': ['1.docx', '10.docx', '2.docx', '3.docx', '4.docx', '5.docx', '6.docx', '7.docx', '8.docx', '9.docx'], '67': ['1.docx', '10.docx', '11.docx', '12.docx', '2.docx', '3.docx', '4.docx', '5.docx', '6.docx', '7.docx', '8.docx', '9.docx'], '68': ['1.docx', '2.docx', '3.docx', '4.docx', '5.docx', '6.docx', '7.docx', '8.docx', '9.docx'], '69': ['1.docx', '2.docx', '3.docx', '4.docx', '5.docx', '6.docx', '7.docx', '8.docx', '9.docx'], '2': ['1.docx', '10.docx', '11.docx', '12.docx', '13.docx', '14.docx', '15.docx', '2.docx', '3.docx', '4.docx', '5.docx', '6.docx', '7.docx', '8.docx', '9.docx'], '6': ['1.docx', '10.docx', '11.docx', '12.docx', '2.docx', '3.docx', '4.docx', '5.docx', '6.docx', '7.docx', '8.docx', '9.docx'], '99': ['1.docx', '2.docx', '3.docx', '4.docx', '5.docx', '6.docx', '7.docx', '8.docx'], '98': ['1.docx', '10.docx', '11.docx', '12.docx', '13.docx', '14.docx', '15.docx', '16.docx', '2.docx', '3.docx', '4.docx', '5.docx', '6.docx', '7.docx', '8.docx', '9.docx'], '91': ['1.docx', '11.docx', '12.docx', '13.docx', '2.docx', '3.docx', '4.docx', '5.docx', '6.docx', '7.docx', '8.docx', '9.docx'], '90': ['1.docx', '2.docx', '3.docx', '4.docx', '5.docx', '6.docx', '7.docx', '8.docx', '9.docx'], '93': ['1.docx', '10.docx', '11.docx', '12.docx', '13.docx', '14.docx', '2.docx', '3.docx', '4.docx', '5.docx', '6.docx', '7.docx', '8.docx', '9.docx'], '92': ['1.docx', '10.docx', '11.docx', '12.docx', '13.docx', '14.docx', '2.docx', '3.docx', '4.docx', '5.docx', '6.docx', '7.docx', '8.docx', '9.docx'], '95': ['1.docx', '10.docx', '2.docx', '3.docx', '4.docx', '5.docx', '6.docx', '7.docx', '8.docx', '9.docx'], '94': ['1.docx', '2.docx', '3.docx', '4.docx', '5.docx', '6.docx', '7.docx'], '97': ['1.docx', '10.docx', '11.docx', '12.docx', '13.docx', '14.docx', '15.docx', '16.docx', '2.docx', '3.docx', '4.docx', '5.docx', '6.docx', '7.docx', '8.docx', '9.docx'], '96': ['1.docx', '2.docx', '3.docx', '4.docx', '5.docx', '6.docx', '7.docx', '8.docx', '9.docx'], '11': ['1.docx', '10.docx', '11.docx', '12.docx', '2.docx', '3.docx', '4.docx', '5.docx', '6.docx', '7.docx', '8.docx', '9.docx'], '10': ['1.docx', '2.docx', '3.docx', '4.docx', '5.docx', '6.docx'], '13': ['1.docx', '10.docx', '11.docx', '12.docx', '13.docx', '14.docx', '2.docx', '3.docx', '4.docx', '5.docx', '6.docx', '7.docx', '8.docx', '9.docx'], '12': ['1.docx', '2.docx', '3.docx', '4.docx', '5.docx', '6.docx', '7.docx'], '15': ['1.docx', '10.docx', '11.docx', '12.docx', '13.docx', '2.docx', '3.docx', '4.docx', '5.docx', '6.docx', '7.docx', '8.docx', '9.docx'], '17': ['1.docx', '10.docx', '11.docx', '12.docx', '2.docx', '3.docx', '4.docx', '5.docx', '6.docx', '7.docx', '8.docx', '9.docx'], '16': ['1.docx', '10.docx', '11.docx', '12.docx', '13.docx', '14.docx', '15.docx', '2.docx', '3.docx', '4.docx', '5.docx', '6.docx', '7.docx', '8.docx', '9.docx'], '19': ['1.docx', '10.docx', '11.docx', '2.docx', '3.docx', '4.docx', '5.docx', '6.docx', '7.docx', '8.docx', '9.docx'], '18': ['1.docx', '10.docx', '11.docx', '12.docx', '2.docx', '3.docx', '4.docx', '5.docx', '6.docx', '7.docx', '8.docx', '9.docx'], '48': ['1.docx', '10.docx', '11.docx', '12.docx', '13.docx', '14.docx', '2.docx', '3.docx', '4.docx', '5.docx', '6.docx', '7.docx', '8.docx', '9.docx'], '49': ['1.docx', '10.docx', '11.docx', '12.docx', '13.docx', '2.docx', '3.docx', '4.docx', '5.docx', '6.docx', '7.docx', '8.docx', '9.docx'], '46': ['1.docx', '2.docx', '3.docx', '4.docx', '5.docx', '6.docx', '7.docx', '8.docx'], '47': ['1.docx', '10.docx', '11.docx', '12.docx', '13.docx', '2.docx', '3.docx', '4.docx', '5.docx', '6.docx', '7.docx', '8.docx', '9.docx'], '44': ['1.docx', '2.docx', '3.docx', '4.docx', '5.docx', '6.docx', '7.docx', '8.docx', '9.docx'], '45': ['1.docx', '2.docx', '3.docx', '4.docx', '5.docx', '6.docx'], '40': ['1.docx', '2.docx', '3.docx', '4.docx', '5.docx'], '41': ['1.docx', '2.docx', '3.docx', '4.docx', '5.docx', '6.docx', '7.docx', '9.docx'], '1': ['1.docx', '10.docx', '11.docx', '12.docx', '13.docx', '14.docx', '2.docx', '3.docx', '4.docx', '5.docx', '6.docx', '7.docx', '8.docx', '9.docx'], '5': ['1.docx', '2.docx', '3.docx', '4.docx', '5.docx', '6.docx', '7.docx', '8.docx'], '9': ['1.docx', '2.docx', '3.docx', '4.docx', '5.docx'], '77': ['1.docx', '10.docx', '11.docx', '12.docx', '13.docx', '14.docx', '15.docx', '16.docx', '2.docx', '3.docx', '4.docx', '5.docx', '6.docx', '7.docx', '8.docx', '9.docx'], '76': ['1.docx', '10.docx', '11.docx', '12.docx', '2.docx', '3.docx', '4.docx', '5.docx', '6.docx', '7.docx', '8.docx', '9.docx'], '75': ['1.docx', '10.docx', '2.docx', '3.docx', '4.docx', '5.docx', '6.docx', '7.docx', '8.docx', '9.docx'], '74': ['1.docx', '10.docx', '11.docx', '12.docx', '13.docx', '14.docx', '15.docx', '16.docx', '2.docx', '3.docx', '4.docx', '5.docx', '6.docx', '7.docx', '8.docx', '9.docx'], '73': ['1.docx', '2.docx', '3.docx', '4.docx', '5.docx', '6.docx'], '72': ['1.docx', '10.docx', '11.docx', '12.docx', '13.docx', '14.docx', '2.docx', '3.docx', '4.docx', '5.docx', '6.docx', '7.docx', '8.docx', '9.docx'], '71': ['1.docx', '2.docx', '3.docx', '4.docx', '5.docx', '6.docx', '7.docx', '8.docx'], '70': ['1.docx', '10.docx', '11.docx', '12.docx', '2.docx', '3.docx', '4.docx', '5.docx', '6.docx', '7.docx', '8.docx', '9.docx'], '79': ['1.docx', '10.docx', '11.docx', '12.docx', '2.docx', '3.docx', '4.docx', '5.docx', '6.docx', '7.docx', '8.docx', '9.docx'], '78': ['1.docx', '2.docx', '3.docx', '4.docx', '5.docx', '6.docx', '7.docx', '8.docx']}\n",
      "96\n"
     ]
    }
   ],
   "source": [
    "from os import listdir\n",
    "from os.path import isfile,join\n",
    "\n",
    "import pandas as pd\n",
    "\n",
    "import docx \n",
    "import string\n",
    "\n",
    "from sklearn.feature_extraction.text import CountVectorizer\n",
    "from sklearn.feature_extraction import text \n",
    "\n",
    "# if isfile(join(myPath,f))\n",
    "\n",
    "textDict=[]\n",
    "# textDict is a dictionary of text files assigned to corresponding roll no's\n",
    "# { 001:[Text1,Text2,...], 002:[Text1, Text2,..],....}\n",
    "\n",
    "# myPath is the dataset directory which has sub folderes representing each roll no and its sub directives have different files resectively\n",
    "myPath = \"DUMP\"\n",
    "\n",
    "def fileToText(fileName):\n",
    "    doc = docx.Document(join(myPath,fileName))\n",
    "    content=\"\"\n",
    "    for para in doc.paragraphs:\n",
    "        content+=para.text.encode('UTF-8')+\" \"\n",
    "    content =\" \".join(content.split())\n",
    "    content = content.lower()\n",
    "    #     content = content.translate(None, string.punctuation)\n",
    "    return content\n",
    "\n",
    "textDict = {roll:[f for f in listdir(join(myPath,roll)) if isfile(join(myPath,roll,f))]for roll in listdir(myPath)}  \n",
    "print textDict\n",
    "print len(textDict)\n",
    "\n",
    "                                                                 "
   ]
  },
  {
   "cell_type": "code",
   "execution_count": 202,
   "metadata": {},
   "outputs": [
    {
     "name": "stdout",
     "output_type": "stream",
     "text": [
      "about my friend i have many friends in my life, among them venkatesh bejjenki is my best friend who is popularly known as “bejjenki” among his friends. he is very loyal and caring. he is the one who understands me very well, he shares his joy with me and consoles me when i’m in sorrow. he is the one who is always there for me. though we are from different families we are much similar to each other. he has very good command in the programming languages and he helps me and other friends by taking classes in the evening after the college hours. he is an open source lover and he serves open source communities. my life is much better after i befriended him. a typical day at my college my day at college starts at around 8:30 am in the morning, i go to my class and open my laptop and start watching lecture videos. sometimes there will be morning class by mentors and all the students in the class are supposed to watch the lecture videos earlier to the class. we discuss among ourselves, refer lecturer pdfs and come to conclusion regarding the topic. later we enjoy the break from 10:00 am to 10:30 am, i usually go to maggie canteen with my friends and chitchat with my friends while having the maggie.we come back to the class and start working on the scheduled topic and practice code level problems. later comes our favorite hour that is the lunch hour from  12:30 pm to 01:30 pm, my friends and i go to mess called ‘yukthahar’ which is known for healthy food. we eat chapatis and and drink butter milk which are awesome. we also discuss what had happened in the morning session.we return back to our labs and watch funny videos in youtube for 5 to 10 mins and take power nap around half an hour. after that i again start working parallel with my friends and watch course videos in udacity to complete that day’s task. i take break around 03:45 pm and go to vindya canteen in my college to have tea and samosa. later when i come back i start working on my project till 5 pm and there comes the interesting session of soft skills. this session is very interesting i get relief from the technical subject. there will be 5 to 6 students and a soft skills mentor in that session and we enjoy a lot during that session. later on i come back to my lab and relax for half an hour. next i start watching videos of soft skills task and complete it. then i start to solve the hackerrank problem sets online till 9 pm and i leave for supper to the same mess ‘yukthahar’. i eat chapatis and drink milk. later i walk along the college roads and return back to the lab by 10 pm. then i start to watch lecture videos of next days topic till 12 am and finally i go to hostel to sleep.\n",
      "xxxxxxxxxxxxxxxxxxxxxxxxxxxxxxxxxxxxxxxxxxxxxxxxxxxxxxxxxxxxxxxxxxxxxxxxxxxxxxxxxxxxxxxx\n",
      "from: venkatesh bejjenki to: ms. hasmitha cc: mr. arun subject: hasmitha, meet arun. hasmitha, i want to introduce you to mr. arun. he’s been a team manager at accerinc., bombay. he has very good experience in content developing and also won the best content generator award. he is looking for a strong content developer for his project. as you are getting married and moving to bombay next month i suggest you to contact arun for the content developer job. hasmitha, you followup with arun over email. thanks, venkatesh bejjenki ase-lead amazon, hyderabad.\n",
      "xxxxxxxxxxxxxxxxxxxxxxxxxxxxxxxxxxxxxxxxxxxxxxxxxxxxxxxxxxxxxxxxxxxxxxxxxxxxxxxxxxxxxxxx\n",
      "['about my friend i have many friends in my life, among them venkatesh bejjenki is my best friend who is popularly known as \\xe2\\x80\\x9cbejjenki\\xe2\\x80\\x9d among his friends. he is very loyal and caring. he is the one who understands me very well, he shares his joy with me and consoles me when i\\xe2\\x80\\x99m in sorrow. he is the one who is always there for me. though we are from different families we are much similar to each other. he has very good command in the programming languages and he helps me and other friends by taking classes in the evening after the college hours. he is an open source lover and he serves open source communities. my life is much better after i befriended him. a typical day at my college my day at college starts at around 8:30 am in the morning, i go to my class and open my laptop and start watching lecture videos. sometimes there will be morning class by mentors and all the students in the class are supposed to watch the lecture videos earlier to the class. we discuss among ourselves, refer lecturer pdfs and come to conclusion regarding the topic. later we enjoy the break from 10:00 am to 10:30 am, i usually go to maggie canteen with my friends and chitchat with my friends while having the maggie.we come back to the class and start working on the scheduled topic and practice code level problems. later comes our favorite hour that is the lunch hour from \\xc2\\xa012:30 pm to 01:30 pm, my friends and i go to mess called \\xe2\\x80\\x98yukthahar\\xe2\\x80\\x99 which is known for healthy food. we eat chapatis and and drink butter milk which are awesome. we also discuss what had happened in the morning session.we return back to our labs and watch funny videos in youtube for 5 to 10 mins and take power nap around half an hour. after that i again start working parallel with my friends and watch course videos in udacity to complete that day\\xe2\\x80\\x99s task. i take break around 03:45 pm and go to vindya canteen in my college to have tea and samosa. later when i come back i start working on my project till 5 pm and there comes the interesting session of soft skills. this session is very interesting i get relief from the technical subject. there will be 5 to 6 students and a soft skills mentor in that session and we enjoy a lot during that session. later on i come back to my lab and relax for half an hour. next i start watching videos of soft skills task and complete it. then i start to solve the hackerrank problem sets online till 9 pm and i leave for supper to the same mess \\xe2\\x80\\x98yukthahar\\xe2\\x80\\x99. i eat chapatis and drink milk. later i walk along the college roads and return back to the lab by 10 pm. then i start to watch lecture videos of next days topic till 12 am and finally i go to hostel to sleep.', 'from: venkatesh bejjenki to: ms. hasmitha cc: mr. arun subject: hasmitha, meet arun. hasmitha, i want to introduce you to mr. arun. he\\xe2\\x80\\x99s been a team manager at accerinc., bombay. he has very good experience in content developing and also won the best content generator award. he is looking for a strong content developer for his project. as you are getting married and moving to bombay next month i suggest you to contact arun for the content developer job. hasmitha, you followup with arun over email. thanks, venkatesh bejjenki ase-lead amazon, hyderabad.']\n"
     ]
    }
   ],
   "source": [
    "myText= []\n",
    "def fileToText(fileName):\n",
    "    doc = docx.Document(join(myPath,fileName))\n",
    "    content=\"\"\n",
    "    for para in doc.paragraphs:\n",
    "        content+=para.text.encode('UTF-8')+\" \"\n",
    "    content =\" \".join(content.split())\n",
    "    content = content.lower()\n",
    "    #     content = content.translate(None, string.punctuation)\n",
    "    return content\n",
    "studentData={201685013:myText}\n",
    "print myText\n"
   ]
  },
  {
   "cell_type": "code",
   "execution_count": 203,
   "metadata": {},
   "outputs": [
    {
     "name": "stdout",
     "output_type": "stream",
     "text": [
      "2\n",
      "[{'code': 1, 'programming': 1, 'vindya': 1, 'laptop': 1, 'course': 1, 'session': 5, 'sleep': 1, 'milk': 2, 'samosa': 1, 'interesting': 2, 'discuss': 2, 'better': 1, 'source': 2, 'finally': 1, 'helps': 1, 'happened': 1, 'scheduled': 1, 'evening': 1, 'return': 2, 'watching': 2, 'food': 1, 'practice': 1, 'watch': 4, 'break': 2, 'lunch': 1, 'half': 2, 'communities': 1, 'day': 3, 'bejjenki': 2, 'regarding': 1, 'level': 1, 'skills': 3, 'serves': 1, 'morning': 3, 'leave': 1, 'soft': 3, 'enjoy': 2, 'tea': 1, 'college': 5, 'canteen': 2, 'best': 1, 'hostel': 1, '03': 1, '00': 1, '01': 1, 'shares': 1, 'students': 2, 'udacity': 1, 'lecture': 3, 'refer': 1, 'drink': 2, 'power': 1, 'chitchat': 1, 'joy': 1, 'sorrow': 1, 'hours': 1, 'come': 4, 'labs': 1, 'befriended': 1, 'healthy': 1, 'starts': 1, 'taking': 1, '30': 4, 'favorite': 1, 'days': 1, 'mentor': 1, 'usually': 1, 'comes': 2, 'maggie': 2, 'hackerrank': 1, 'walk': 1, 'roads': 1, 'pdfs': 1, 'open': 3, 'caring': 1, 'languages': 1, 'working': 3, 'parallel': 1, 'start': 7, 'lot': 1, 'friend': 2, 'pm': 6, 'chapatis': 2, 'life': 2, 'families': 1, 'complete': 2, 'yukthahar': 2, 'relax': 1, 'consoles': 1, 'known': 2, 'eat': 2, '10': 4, '12': 2, 'hour': 4, 'project': 1, 'technical': 1, 'classes': 1, 'supposed': 1, 'lover': 1, 'problem': 1, 'similar': 1, 'called': 1, 'videos': 6, 'popularly': 1, 'awesome': 1, 'topic': 3, 'good': 1, 'mins': 1, 'funny': 1, 'different': 1, 'venkatesh': 1, '45': 1, 'till': 3, 'nap': 1, 'online': 1, 'solve': 1, 'subject': 1, 'conclusion': 1, 'lecturer': 1, 'mess': 2, 'earlier': 1, 'problems': 1, 'lab': 2, 'supper': 1, 'friends': 7, 'class': 5, 'butter': 1, 'understands': 1, 'task': 2, 'later': 5, 'youtube': 1, 'mentors': 1, 'loyal': 1, 'command': 1, 'relief': 1, 'sets': 1, 'having': 1, 'typical': 1}, {'hyderabad': 1, 'married': 1, 'cc': 1, 'month': 1, 'manager': 1, 'thanks': 1, 'want': 1, 'bombay': 2, 'best': 1, 'developer': 2, 'looking': 1, 'generator': 1, 'suggest': 1, 'venkatesh': 2, 'content': 4, 'won': 1, 'subject': 1, 'email': 1, 'followup': 1, 'good': 1, 'hasmitha': 4, 'team': 1, 'award': 1, 'amazon': 1, 'moving': 1, 'introduce': 1, 'ase': 1, 'strong': 1, 'bejjenki': 2, 'lead': 1, 'accerinc': 1, 'developing': 1, 'getting': 1, 'job': 1, 'experience': 1, 'project': 1, 'contact': 1, 'ms': 1, 'mr': 2, 'arun': 5, 'meet': 1}]\n"
     ]
    }
   ],
   "source": [
    "print len(studentData[201685013])\n",
    "\n",
    "\n",
    "temp1,temp2 = studentData[201685013] \n",
    "\n",
    "def bag(temp1):\n",
    "    stop_words = text.ENGLISH_STOP_WORDS.union(\"[0-9]+\")\n",
    "    count_vector = CountVectorizer(stop_words=stop_words,encoding=u'utf-8',token_pattern=u'(?u)\\\\b\\\\w\\\\w+\\\\b')\n",
    "    count_vector.fit([temp1])\n",
    "    myKey = count_vector.get_feature_names()\n",
    "    myValue = count_vector.transform([temp1]).toarray()\n",
    "    # Counter(count_vector.get_feature_names())\n",
    "    # for x in  count_vector.get_feature_names():\n",
    "    #     print x.encode(\"utf-8\")\n",
    "    d = dict(zip([x.encode(\"utf-8\") for x in myKey], myValue.flatten()))\n",
    "    return d\n",
    "\n",
    "bagOfWords = {13:[]}\n",
    "for t in studentData[201685013]:\n",
    "    bagOfWords[13].append(bag(t))\n",
    "#     print len(dict1)\n",
    "#     print '\\n'\n",
    "print bagOfWords[13]\n",
    "\n",
    "\n"
   ]
  },
  {
   "cell_type": "code",
   "execution_count": null,
   "metadata": {
    "collapsed": true
   },
   "outputs": [],
   "source": [
    "\n"
   ]
  },
  {
   "cell_type": "code",
   "execution_count": null,
   "metadata": {
    "collapsed": true
   },
   "outputs": [],
   "source": []
  },
  {
   "cell_type": "code",
   "execution_count": null,
   "metadata": {
    "collapsed": true
   },
   "outputs": [],
   "source": []
  }
 ],
 "metadata": {
  "kernelspec": {
   "display_name": "Python 2",
   "language": "python",
   "name": "python2"
  },
  "language_info": {
   "codemirror_mode": {
    "name": "ipython",
    "version": 2
   },
   "file_extension": ".py",
   "mimetype": "text/x-python",
   "name": "python",
   "nbconvert_exporter": "python",
   "pygments_lexer": "ipython2",
   "version": "2.7.13"
  }
 },
 "nbformat": 4,
 "nbformat_minor": 2
}
