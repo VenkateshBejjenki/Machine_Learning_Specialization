{
 "cells": [
  {
   "cell_type": "markdown",
   "metadata": {
    "collapsed": true
   },
   "source": [
    "# implemenation of KNN alogorithm\n",
    "pre processing the training dataset\n",
    "\n",
    "\n"
   ]
  },
  {
   "cell_type": "code",
   "execution_count": 8,
   "metadata": {},
   "outputs": [
    {
     "data": {
      "text/plain": [
       "[[u'student', u'spend>saving', 6.0, 40.0, 13.62, 3.2804, u'C1'],\n",
       " [u'student', u'spend>saving', 11.0, 21.0, 15.32, 2.0232, u'C1'],\n",
       " [u'student', u'spend>saving', 7.0, 64.0, 16.55, 3.1202, u'C1'],\n",
       " [u'student', u'spend>saving', 3.0, 47.0, 15.71, 3.4022, u'C1'],\n",
       " [u'student', u'spend>saving', 15.0, 10.0, 16.96, 2.2825, u'C1'],\n",
       " [u'student', u'spend>saving', 6.0, 80.0, 15.5, 3.7338, u'C1'],\n",
       " [u'student', u'spend<saving', 10.0, 49.0, 16.86, 5.8639, u'C1'],\n",
       " [u'student', u'spend<saving', 10.0, 84.0, 14.66, 3.187, u'C1'],\n",
       " [u'student', u'spend<saving', 9.0, 74.0, 13.86, 2.3823, u'C1'],\n",
       " [u'student', u'spend>>saving', 22.0, 38.0, 13.88, 0.7394, u'C1'],\n",
       " [u'student', u'spend>>saving', 25.0, 30.0, 15.64, 3.1282, u'C1'],\n",
       " [u'student', u'spend>>saving', 31.0, 15.0, 14.4, 2.3925, u'C1'],\n",
       " [u'student', u'spend>>saving', 24.0, 55.0, 15.55, 1.9857, u'C1'],\n",
       " [u'student', u'spend>>saving', 28.0, 85.0, 13.9, 4.3147, u'C1'],\n",
       " [u'student', u'spend<<saving', 25.0, 24.0, 15.09, 5.1951, u'C1'],\n",
       " [u'student', u'spend<<saving', 24.0, 15.0, 13.0, 1.6162, u'C1'],\n",
       " [u'student', u'spend<<saving', 25.0, 33.0, 14.51, 2.5551, u'C1'],\n",
       " [u'engineer', u'spend>saving', 23.0, 86.0, 20.04, 1.351, u'C1'],\n",
       " [u'engineer', u'spend>saving', 20.0, 69.0, 19.69, 7.0714, u'C1'],\n",
       " [u'engineer', u'spend>saving', 14.0, 86.0, 20.23, 7.4749, u'C1'],\n",
       " [u'engineer', u'spend>saving', 41.0, 50.0, 21.0, 6.8701, u'C1'],\n",
       " [u'engineer', u'spend>saving', 17.0, 38.0, 21.22, 1.0881, u'C1'],\n",
       " [u'engineer', u'spend>saving', 6.0, 76.0, 19.46, 3.1729, u'C1'],\n",
       " [u'engineer', u'spend>saving', 38.0, 61.0, 20.91, 3.2021, u'C1'],\n",
       " [u'engineer', u'spend>saving', 23.0, 45.0, 19.83, 4.215, u'C1'],\n",
       " [u'engineer', u'spend>saving', 9.0, 58.0, 19.66, 2.4553, u'C1'],\n",
       " [u'engineer', u'spend>>saving', 46.0, 20.0, 20.54, 1.6447, u'C1'],\n",
       " [u'engineer', u'spend>>saving', 53.0, 82.0, 20.93, 2.7064, u'C1'],\n",
       " [u'engineer', u'spend>>saving', 31.0, 40.0, 19.43, 5.7642, u'C1'],\n",
       " [u'engineer', u'spend>>saving', 41.0, 46.0, 18.5, 8.3453, u'C1'],\n",
       " [u'engineer', u'spend<<saving', 39.0, 87.0, 19.95, 4.0586, u'C1'],\n",
       " [u'engineer', u'spend<<saving', 28.0, 42.0, 20.55, 3.0668, u'C1'],\n",
       " [u'engineer', u'spend<<saving', 52.0, 52.0, 20.08, 5.0033, u'C1'],\n",
       " [u'engineer', u'spend<<saving', 40.0, 50.0, 21.58, 2.6248, u'C1'],\n",
       " [u'engineer', u'spend<<saving', 45.0, 92.0, 19.67, 7.325, u'C1'],\n",
       " [u'engineer', u'spend<<saving', 33.0, 62.0, 20.8, 5.8137, u'C1'],\n",
       " [u'librarian', u'spend>saving', 7.0, 10.0, 18.1751, 1.2225, u'C2'],\n",
       " [u'librarian', u'spend>saving', 1.0, 3.0, 16.4385, 0.9869, u'C2'],\n",
       " [u'librarian', u'spend>saving', 2.0, 8.0, 12.4786, 0.7506, u'C2'],\n",
       " [u'librarian', u'spend>saving', 7.0, 11.0, 15.8298, 0.5672, u'C2'],\n",
       " [u'librarian', u'spend>saving', 5.0, 11.0, 14.6699, 1.0147, u'C2'],\n",
       " [u'librarian', u'spend<saving', 7.0, 11.0, 13.4146, 0.1724, u'C2'],\n",
       " [u'librarian', u'spend<saving', 9.0, 10.0, 17.9944, 0.2708, u'C2'],\n",
       " [u'librarian', u'spend<saving', 6.0, 5.0, 11.0413, 1.7063, u'C2'],\n",
       " [u'librarian', u'spend<saving', 3.0, 11.0, 18.254, 0.8712, u'C2'],\n",
       " [u'librarian', u'spend<saving', 7.0, 10.0, 8.8997, 1.9516, u'C2'],\n",
       " [u'librarian', u'spend<saving', 4.0, 11.0, 19.116, 0.8027, u'C2'],\n",
       " [u'librarian', u'spend<saving', 3.0, 12.0, 18.3739, 0.9693, u'C2'],\n",
       " [u'librarian', u'spend>saving', 11.0, 10.0, 20.0328, 1.2693, u'C2'],\n",
       " [u'librarian', u'spend>saving', 5.0, 11.0, 14.2322, 0.8286, u'C2'],\n",
       " [u'professor', u'spend>saving', 10.0, 9.0, 20.5991, 0.552, u'C2'],\n",
       " [u'professor', u'spend>saving', 7.0, 7.0, 8.5076, 1.223, u'C2'],\n",
       " [u'professor', u'spend>saving', 7.0, 11.0, 18.1388, 0.6957, u'C2'],\n",
       " [u'professor', u'spend>saving', 5.0, 14.0, 14.0667, 1.1974, u'C2'],\n",
       " [u'professor', u'spend>saving', 5.0, 8.0, 13.9065, 1.2392, u'C2'],\n",
       " [u'professor', u'spend>saving', 8.0, 8.0, 17.6074, 0.568, u'C2'],\n",
       " [u'professor', u'spend>saving', 4.0, 12.0, 15.6526, 1.1132, u'C2'],\n",
       " [u'professor', u'spend<saving', 3.0, 5.0, 21.054, 1.0448, u'C2'],\n",
       " [u'professor', u'spend<saving', 4.0, 7.0, 15.0986, 0.8853, u'C2'],\n",
       " [u'professor', u'spend<saving', 1.0, 8.0, 17.2758, 0.4089, u'C2'],\n",
       " [u'professor', u'spend<saving', 6.0, 17.0, 18.5944, 0.79, u'C2'],\n",
       " [u'professor', u'spend<saving', 5.0, 11.0, 21.4653, 0.8358, u'C2'],\n",
       " [u'student', u'spend<saving', 6.0, 73.0, 31.75, 4.8256, u'C3'],\n",
       " [u'student', u'spend<saving', 11.0, 71.0, 26.31, 3.4024, u'C3'],\n",
       " [u'student', u'spend<saving', 11.0, 70.0, 27.86, 3.8865, u'C3'],\n",
       " [u'student', u'spend<saving', 7.0, 66.0, 31.39, 3.5978, u'C3'],\n",
       " [u'student', u'spend<saving', 9.0, 69.0, 16.74, 5.4591, u'C3'],\n",
       " [u'student', u'spend<saving', 14.0, 70.0, 22.03, 5.0585, u'C3'],\n",
       " [u'student', u'spend>saving', 12.0, 68.0, 22.79, 4.7536, u'C3'],\n",
       " [u'student', u'spend>saving', 13.0, 72.0, 26.19, 2.6436, u'C3'],\n",
       " [u'student', u'spend>saving', 10.0, 66.0, 20.09, 3.9933, u'C3'],\n",
       " [u'student', u'spend>saving', 5.0, 68.0, 24.24, 3.7744, u'C3'],\n",
       " [u'student', u'spend>saving', 5.0, 71.0, 23.79, 4.6938, u'C3'],\n",
       " [u'student', u'spend>saving', 11.0, 75.0, 28.83, 3.3291, u'C3'],\n",
       " [u'student', u'spend>saving', 8.0, 67.0, 22.87, 4.2798, u'C3'],\n",
       " [u'doctor', u'spend>saving', 12.0, 261.0, 23.07, 12.8549, u'C3'],\n",
       " [u'doctor', u'spend>saving', 6.0, 279.0, 26.98, 8.0012, u'C3'],\n",
       " [u'doctor', u'spend>saving', 11.0, 96.0, 28.88, 9.8281, u'C3'],\n",
       " [u'doctor', u'spend>saving', 12.0, 347.0, 25.94, 10.0092, u'C3'],\n",
       " [u'doctor', u'spend>saving', 11.0, 268.0, 27.58, 12.5953, u'C3'],\n",
       " [u'doctor', u'spend>saving', 7.0, 253.0, 25.39, 6.6154, u'C3'],\n",
       " [u'doctor', u'spend>saving', 9.0, 162.0, 25.05, 7.837, u'C3'],\n",
       " [u'doctor', u'spend>saving', 11.0, 187.0, 24.78, 12.5933, u'C3'],\n",
       " [u'doctor', u'spend>saving', 5.0, 131.0, 22.02, 16.408, u'C3'],\n",
       " [u'doctor', u'spend>saving', 8.0, 137.0, 22.76, 13.0995, u'C3'],\n",
       " [u'doctor', u'spend>saving', 7.0, 155.0, 24.91, 10.6717, u'C3'],\n",
       " [u'doctor', u'spend>saving', 13.0, 229.0, 27.97, 11.8543, u'C3'],\n",
       " [u'doctor', u'spend>saving', 15.0, 292.0, 23.2, 12.2331, u'C3'],\n",
       " [u'doctor', u'spend>saving', 12.0, 267.0, 29.43, 17.8737, u'C3'],\n",
       " [u'doctor', u'spend>saving', 8.0, 175.0, 22.56, 11.7815, u'C3'],\n",
       " [u'doctor', u'spend>saving', 11.0, 91.0, 26.94, 14.8164, u'C3'],\n",
       " [u'doctor', u'spend>saving', 9.0, 212.0, 21.07, 11.7612, u'C3'],\n",
       " [u'doctor', u'spend>saving', 7.0, 163.0, 22.4, 9.5971, u'C3'],\n",
       " [u'doctor', u'spend>saving', 11.0, 111.0, 23.58, 12.9283, u'C3'],\n",
       " [u'doctor', u'spend>saving', 10.0, 222.0, 25.67, 15.1555, u'C3'],\n",
       " [u'doctor', u'spend<saving', 9.0, 187.0, 23.77, 11.4248, u'C3'],\n",
       " [u'doctor', u'spend<saving', 12.0, 179.0, 26.53, 13.3902, u'C3'],\n",
       " [u'doctor', u'spend<saving', 6.0, 190.0, 21.4, 9.2276, u'C3'],\n",
       " [u'doctor', u'spend<saving', 8.0, 191.0, 24.71, 10.051, u'C3'],\n",
       " [u'doctor', u'spend<saving', 9.0, 211.0, 26.34, 13.8687, u'C3'],\n",
       " [u'doctor', u'spend<saving', 13.0, 284.0, 24.11, 7.9947, u'C3'],\n",
       " [u'doctor', u'spend<saving', 15.0, 206.0, 24.5, 15.1431, u'C3'],\n",
       " [u'doctor', u'spend<saving', 14.0, 233.0, 25.54, 14.59, u'C3'],\n",
       " [u'doctor', u'spend<saving', 47.0, 51.0, 18.45, 5.6494, u'C4'],\n",
       " [u'doctor', u'spend<saving', 42.0, 66.0, 19.61, 4.202, u'C4'],\n",
       " [u'doctor', u'spend>saving', 40.0, 78.0, 20.28, 3.6179, u'C4'],\n",
       " [u'doctor', u'spend>saving', 40.0, 61.0, 20.83, 1.9896, u'C4'],\n",
       " [u'doctor', u'spend>saving', 34.0, 86.0, 19.02, 4.8388, u'C4'],\n",
       " [u'doctor', u'spend<saving', 59.0, 53.0, 19.9, 4.2836, u'C4'],\n",
       " [u'doctor', u'spend<saving', 38.0, 88.0, 20.13, 2.8193, u'C4'],\n",
       " [u'doctor', u'spend>saving', 26.0, 60.0, 20.06, 4.131, u'C4'],\n",
       " [u'doctor', u'spend>saving', 37.0, 63.0, 20.37, 5.7345, u'C4'],\n",
       " [u'student', u'spend>>saving', 32.0, 66.0, 20.02, 3.5865, u'C4'],\n",
       " [u'student', u'spend<<saving', 23.0, 68.0, 21.37, 2.2667, u'C4'],\n",
       " [u'student', u'spend>saving', 36.0, 43.0, 20.42, 3.0437, u'C4'],\n",
       " [u'student', u'spend<saving', 25.0, 41.0, 20.07, 4.3556, u'C4'],\n",
       " [u'student', u'spend>saving', 39.0, 56.0, 20.29, 2.6881, u'C4'],\n",
       " [u'student', u'spend<saving', 49.0, 60.0, 20.47, 4.9717, u'C4'],\n",
       " [u'student', u'spend>>saving', 64.0, 84.0, 21.78, 3.8456, u'C4'],\n",
       " [u'student', u'spend<<saving', 45.0, 57.0, 20.26, 3.7188, u'C4'],\n",
       " [u'professor', u'spend>>saving', 44.0, 44.0, 21.51, 2.6675, u'C4'],\n",
       " [u'professor', u'spend<<saving', 51.0, 16.0, 20.32, 2.1608, u'C4'],\n",
       " [u'professor', u'spend>>saving', 44.0, 39.0, 20.8, 1.7196, u'C4'],\n",
       " [u'professor', u'spend<<saving', 53.0, 35.0, 20.58, 2.5493, u'C4'],\n",
       " [u'professor', u'spend>saving', 38.0, 25.0, 21.78, 0.008, u'C4'],\n",
       " [u'professor', u'spend<saving', 41.0, 54.0, 19.06, 3.0132, u'C4'],\n",
       " [u'professor', u'spend>saving', 33.0, 50.0, 19.08, 1.7395, u'C4'],\n",
       " [u'professor', u'spend<saving', 32.0, 38.0, 20.38, 1.4075, u'C4'],\n",
       " [u'professor', u'spend>>saving', 34.0, 30.0, 20.91, 2.4095, u'C4'],\n",
       " [u'librarian', u'spend<<saving', 48.0, 35.0, 20.15, 2.4436, u'C4'],\n",
       " [u'librarian', u'spend>>saving', 41.0, 37.0, 19.8, 2.8195, u'C4'],\n",
       " [u'librarian', u'spend<<saving', 22.0, 24.0, 21.49, 2.7344, u'C4'],\n",
       " [u'librarian', u'spend>>saving', 58.0, 27.0, 19.38, 3.0286, u'C4'],\n",
       " [u'librarian', u'spend<<saving', 47.0, 45.0, 20.81, 1.5505, u'C4'],\n",
       " [u'librarian', u'spend>saving', 25.0, 40.0, 21.93, 1.0924, u'C4'],\n",
       " [u'librarian', u'spend<saving', 36.0, 33.0, 20.4, 1.2062, u'C4'],\n",
       " [u'librarian', u'spend>saving', 42.0, 22.0, 19.14, 1.5377, u'C4'],\n",
       " [u'librarian', u'spend<saving', 32.0, 25.0, 22.43, 3.0428, u'C4'],\n",
       " [u'engineer', u'spend>>saving', 39.0, 62.0, 19.16, 3.9847, u'C4'],\n",
       " [u'engineer', u'spend<<saving', 43.0, 69.0, 20.28, 3.5298, u'C4'],\n",
       " [u'engineer', u'spend>>saving', 50.0, 55.0, 20.82, 3.0217, u'C4'],\n",
       " [u'engineer', u'spend<<saving', 26.0, 49.0, 21.23, 4.0693, u'C4'],\n",
       " [u'engineer', u'spend>>saving', 30.0, 44.0, 19.94, 4.8997, u'C4'],\n",
       " [u'engineer', u'spend<<saving', 34.0, 72.0, 20.65, 5.2348, u'C4'],\n",
       " [u'engineer', u'spend>saving', 42.0, 65.0, 18.23, 2.8972, u'C4'],\n",
       " [u'engineer', u'spend<saving', 53.0, 76.0, 20.06, 4.4073, u'C4'],\n",
       " [u'engineer', u'spend>saving', 59.0, 55.0, 19.24, 2.5725, u'C4'],\n",
       " [u'engineer', u'spend<saving', 47.0, 70.0, 18.31, 4.8945, u'C4'],\n",
       " [u'engineer', u'spend>>saving', 48.0, 63.0, 21.1, 3.6149, u'C4'],\n",
       " [u'engineer', u'spend<<saving', 39.0, 51.0, 21.46, 3.8187, u'C4'],\n",
       " [u'professor', u'spend>saving', 48.0, 5.0, 20.39, 1.7536, u'C5'],\n",
       " [u'professor', u'spend>saving', 51.0, 5.0, 27.6, 2.4567, u'C5'],\n",
       " [u'professor', u'spend>saving', 50.0, 3.0, 23.12, 2.4937, u'C5'],\n",
       " [u'professor', u'spend>saving', 51.0, 3.0, 29.52, 2.3271, u'C5'],\n",
       " [u'professor', u'spend>saving', 50.0, 4.0, 18.8, 2.9932, u'C5'],\n",
       " [u'professor', u'spend>saving', 50.0, 6.0, 19.76, 2.8216, u'C5'],\n",
       " [u'professor', u'spend>saving', 49.0, 7.0, 28.84, 3.96, u'C5'],\n",
       " [u'professor', u'spend>saving', 49.0, 5.0, 19.42, 1.8757, u'C5'],\n",
       " [u'professor', u'spend>saving', 50.0, 3.0, 16.31, 2.5786, u'C5'],\n",
       " [u'professor', u'spend>>saving', 49.0, 5.0, 23.51, 2.7638, u'C5'],\n",
       " [u'professor', u'spend>>saving', 50.0, 5.0, 22.71, 3.3358, u'C5'],\n",
       " [u'professor', u'spend>>saving', 50.0, 3.0, 19.59, 2.9, u'C5'],\n",
       " [u'professor', u'spend>>saving', 50.0, 3.0, 18.03, 2.9419, u'C5'],\n",
       " [u'professor', u'spend>>saving', 51.0, 6.0, 26.76, 2.3879, u'C5'],\n",
       " [u'professor', u'spend>>saving', 49.0, 5.0, 31.55, 2.6485, u'C5'],\n",
       " [u'professor', u'spend>>saving', 49.0, 3.0, 31.06, 2.2395, u'C5'],\n",
       " [u'professor', u'spend>>saving', 50.0, 5.0, 31.2, 2.4223, u'C5'],\n",
       " [u'professor', u'spend>>saving', 50.0, 4.0, 20.92, 2.4508, u'C5'],\n",
       " [u'engineer', u'spend>saving', 50.0, 18.0, 24.01, 0.738, u'C5'],\n",
       " [u'engineer', u'spend>saving', 50.0, 18.0, 21.52, 1.6871, u'C5'],\n",
       " [u'engineer', u'spend>saving', 51.0, 22.0, 21.99, 1.358, u'C5'],\n",
       " [u'engineer', u'spend>saving', 49.0, 22.0, 20.27, 1.2342, u'C5'],\n",
       " [u'engineer', u'spend>saving', 50.0, 22.0, 21.22, 0.534, u'C5'],\n",
       " [u'engineer', u'spend>saving', 51.0, 26.0, 25.94, 0.6948, u'C5'],\n",
       " [u'engineer', u'spend>saving', 50.0, 24.0, 23.87, 1.5738, u'C5'],\n",
       " [u'engineer', u'spend>saving', 52.0, 14.0, 16.54, 1.5569, u'C5'],\n",
       " [u'engineer', u'spend>saving', 50.0, 22.0, 23.09, 1.0051, u'C5'],\n",
       " [u'engineer', u'spend>>saving', 49.0, 21.0, 23.89, 1.5087, u'C5'],\n",
       " [u'engineer', u'spend>>saving', 51.0, 20.0, 13.68, 1.5669, u'C5'],\n",
       " [u'engineer', u'spend>>saving', 49.0, 17.0, 18.79, 2.0525, u'C5'],\n",
       " [u'engineer', u'spend>>saving', 50.0, 23.0, 20.17, 2.3291, u'C5'],\n",
       " [u'engineer', u'spend>>saving', 47.0, 23.0, 22.78, 1.041, u'C5'],\n",
       " [u'engineer', u'spend>>saving', 51.0, 23.0, 25.56, 2.5066, u'C5'],\n",
       " [u'engineer', u'spend>>saving', 51.0, 17.0, 15.63, 1.6754, u'C5'],\n",
       " [u'engineer', u'spend>>saving', 51.0, 13.0, 20.71, 1.4585, u'C5'],\n",
       " [u'engineer', u'spend>>saving', 49.0, 17.0, 19.18, 2.4251, u'C5']]"
      ]
     },
     "execution_count": 8,
     "metadata": {},
     "output_type": "execute_result"
    }
   ],
   "source": [
    "import arff\n",
    "import math\n",
    "df=arff.load(open('attachments/trainProdSelection/trainProdSelection.arff','rb'))\n",
    "train=df['data']\n",
    "\n",
    "train"
   ]
  },
  {
   "cell_type": "markdown",
   "metadata": {},
   "source": [
    "### pre processing the training dataset"
   ]
  },
  {
   "cell_type": "code",
   "execution_count": 9,
   "metadata": {
    "scrolled": true
   },
   "outputs": [
    {
     "data": {
      "text/plain": [
       "[[u'student', u'spend<saving', 12.0, 19.0, 14.79, 3.7697, u'C1'],\n",
       " [u'student', u'spend>>saving', 29.0, 10.0, 16.19, 2.4839, u'C1'],\n",
       " [u'student', u'spend<<saving', 28.0, 60.0, 15.46, 1.1885, u'C1'],\n",
       " [u'engineer', u'spend>saving', 15.0, 41.0, 21.26, 1.4379, u'C1'],\n",
       " [u'librarian', u'spend<saving', 2.0, 9.0, 19.7207, 0.6913, u'C1'],\n",
       " [u'librarian', u'spend>saving', 7.0, 9.0, 12.7098, 1.4728, u'C1'],\n",
       " [u'professor', u'spend>saving', 5.0, 10.0, 20.883, 1.3131, u'C1'],\n",
       " [u'professor', u'spend<saving', 3.0, 15.0, 16.5711, 0.4792, u'C1'],\n",
       " [u'student', u'spend<saving', 9.0, 71.0, 25.7, 2.0947, u'C1'],\n",
       " [u'student', u'spend>saving', 10.0, 67.0, 27.11, 3.8391, u'C1'],\n",
       " [u'doctor', u'spend>saving', 7.0, 229.0, 30.61, 7.0074, u'C1'],\n",
       " [u'doctor', u'spend<saving', 8.0, 243.0, 25.33, 8.7276, u'C1'],\n",
       " [u'professor', u'spend>saving', 51.0, 5.0, 18.98, 2.8944, u'C1'],\n",
       " [u'doctor', u'spend>saving', 34.0, 51.0, 19.9, 3.9544, u'C1'],\n",
       " [u'student', u'spend>>saving', 39.0, 40.0, 19.3, 3.8317, u'C1'],\n",
       " [u'student', u'spend>>saving', 36.0, 57.0, 19.61, 4.888, u'C1'],\n",
       " [u'professor', u'spend>>saving', 34.0, 30.0, 20.91, 2.4095, u'C1'],\n",
       " [u'librarian', u'spend>>saving', 48.0, 35.0, 20.15, 2.4436, u'C1'],\n",
       " [u'professor', u'spend>>saving', 52.0, 5.0, 22.63, 2.2115, u'C1'],\n",
       " [u'engineer', u'spend>saving', 50.0, 17.0, 32.59, 1.2229, u'C1'],\n",
       " [u'engineer', u'spend>>saving', 50.0, 15.0, 21.78, 2.07, u'C1']]"
      ]
     },
     "execution_count": 9,
     "metadata": {},
     "output_type": "execute_result"
    }
   ],
   "source": [
    "df1=arff.load(open('attachments/testProdSelection/testProdSelection.arff','rb'))\n",
    "test=df1['data']\n",
    "test"
   ]
  },
  {
   "cell_type": "markdown",
   "metadata": {},
   "source": [
    "### splitting the attributes in the trainig dataset for normalization."
   ]
  },
  {
   "cell_type": "code",
   "execution_count": null,
   "metadata": {
    "collapsed": true
   },
   "outputs": [],
   "source": [
    "#splitting attributes\n",
    "typ=[]\n",
    "ls=[]\n",
    "vac=[]\n",
    "ec=[]\n",
    "sal=[]\n",
    "prp=[]\n",
    "lab=[]\n",
    "for i in range(len(train)):\n",
    "    typ.append(train[i][0])\n",
    "    ls.append(train[i][1])\n",
    "    vac.append(train[i][2])\n",
    "    ec.append(train[i][3])\n",
    "    sal.append(train[i][4])\n",
    "    prp.append(train[i][5])\n",
    "    lab.append(train[i][6])"
   ]
  },
  {
   "cell_type": "markdown",
   "metadata": {},
   "source": [
    "### normalizing numeric values of training data"
   ]
  },
  {
   "cell_type": "code",
   "execution_count": 11,
   "metadata": {
    "collapsed": true
   },
   "outputs": [],
   "source": [
    "#normalizing numeric values of train data\n",
    "maxx=max(vac)\n",
    "minn=min(vac)\n",
    "for i in range(len(vac)):\n",
    "    vac[i]=(vac[i]-minn)/(maxx-minn)\n",
    "maxx=max(ec)\n",
    "minn=min(ec)\n",
    "for i in range(len(ec)):\n",
    "    ec[i]=(ec[i]-minn)/(maxx-minn)\n",
    "maxx=max(sal)\n",
    "minn=min(sal)\n",
    "for i in range(len(sal)):\n",
    "    sal[i]=(sal[i]-minn)/(maxx-minn)\n",
    "maxx=max(prp)\n",
    "minn=min(prp)\n",
    "for i in range(len(prp)):\n",
    "    prp[i]=(prp[i]-minn)/(maxx-minn)\n"
   ]
  },
  {
   "cell_type": "markdown",
   "metadata": {},
   "source": [
    "###  splitting and  normalizing the attributes in the testing dataset for normalization."
   ]
  },
  {
   "cell_type": "code",
   "execution_count": null,
   "metadata": {
    "collapsed": true
   },
   "outputs": [],
   "source": [
    "#normalizing numeric values of test data\n",
    "typ1=[]\n",
    "ls1=[]\n",
    "vac1=[]\n",
    "ec1=[]\n",
    "sal1=[]\n",
    "prp1=[]\n",
    "lab1=[]\n",
    "for i in range(len(test)):\n",
    "    typ1.append(test[i][0])\n",
    "    ls1.append(test[i][1])\n",
    "    vac1.append(test[i][2])\n",
    "    ec1.append(test[i][3])\n",
    "    sal1.append(test[i][4])\n",
    "    prp1.append(test[i][5])\n",
    "    lab1.append(test[i][6])\n",
    "maxx=max(vac1)\n",
    "minn=min(vac1)\n",
    "for i in range(len(vac1)):\n",
    "    vac1[i]=(vac1[i]-minn)/(maxx-minn)\n",
    "maxx=max(ec1)\n",
    "minn=min(ec1)\n",
    "for i in range(len(ec1)):\n",
    "    ec1[i]=(ec1[i]-minn)/(maxx-minn)\n",
    "maxx=max(sal1)\n",
    "minn=min(sal1)\n",
    "for i in range(len(sal1)):\n",
    "    sal1[i]=(sal1[i]-minn)/(maxx-minn)\n",
    "maxx=max(prp1)\n",
    "minn=min(prp1)\n",
    "for i in range(len(prp1)):\n",
    "    prp1[i]=(prp1[i]-minn)/(maxx-minn)\n"
   ]
  },
  {
   "cell_type": "markdown",
   "metadata": {},
   "source": [
    "### finding the euclidean distance by using simmilarity matrix .sorting and finding the top  closest vectors."
   ]
  },
  {
   "cell_type": "code",
   "execution_count": 16,
   "metadata": {},
   "outputs": [
    {
     "name": "stdout",
     "output_type": "stream",
     "text": [
      "[[1.0695083253048292, 0, 0.5347541626524146, 0, 0], [1.5983556661217126, 0, 0, 0, 0], [1.659158441296079, 0, 0, 0, 0], [1.8405040396420111, 0, 0, 0, 0], [0, 1.6694244203291024, 0, 0, 0], [0, 1.6402615744252724, 0, 0, 0], [0, 1.7987938573531799, 0, 0, 0], [0, 1.6807444495427126, 0, 0, 0], [0, 0, 1.8650768534891249, 0, 0], [0, 0, 1.8676818366369126, 0, 0], [0, 0, 1.5186008292035151, 0, 0], [0, 0, 1.4547377254493692, 0, 0], [0, 0, 0, 0, 1.7406869027077345], [0, 0, 0, 1.89213933234292, 0], [1.2023303370790301, 0, 0, 0.6011651685395151, 0], [1.218451897298994, 0, 0, 0.609225948649497, 0], [0, 0, 0, 1.2125862146487187, 0.6062931073243594], [0, 0, 0, 1.1414072499185028, 0.5707036249592514], [0, 0, 0, 0, 1.6633684030915807], [0, 0, 0, 0, 1.6955003770069013], [0, 0, 0, 0, 1.6850987615790298]]\n"
     ]
    }
   ],
   "source": [
    "output=[]\n",
    "for i in range(len(test)):\n",
    "    list1=[]\n",
    "    for j in range(0,len(train)):\n",
    "        v=((vac1[i]-vac[j])**2)+((ec1[i]-ec[j])**2)+((sal1[i]-sal[j])**2)+((prp1[i]-prp[j])**2)\n",
    "        if(typ1[i]!=typ[j]):\n",
    "            v=v+1;\n",
    "        if(ls1[i]!=ls[j]):\n",
    "            v=v+1;\n",
    "        eScore=1/math.sqrt(v)\n",
    "        list2=[]\n",
    "        list2.append(eScore)\n",
    "        list2.append(lab[j])\n",
    "        list1.append(list2)\n",
    "    list1=sorted(list1,key=lambda x:x[0])\n",
    "    temp=[0,0,0,0,0]\n",
    "    for j in range(len(list1)-3,len(list1)):\n",
    "        temp[int(list1[j][1][1])-1]=temp[int(list1[j][1][1])-1]+list1[i][0]\n",
    "    output.append(temp)\n",
    "print output"
   ]
  },
  {
   "cell_type": "markdown",
   "metadata": {
    "collapsed": true
   },
   "source": [
    "## calculating the performance metirc of the given dataset .\n"
   ]
  },
  {
   "cell_type": "code",
   "execution_count": 14,
   "metadata": {},
   "outputs": [
    {
     "name": "stdout",
     "output_type": "stream",
     "text": [
      "6\n",
      "28.5714285714\n"
     ]
    }
   ],
   "source": [
    "#performance metric\n",
    "count=0\n",
    "for i in range(len(output)):\n",
    "    maxx=output[i][0]\n",
    "    imax=0\n",
    "    for j in range(1,len(output[i])):\n",
    "        if(output[i][j]>maxx):\n",
    "#             print \"hi\"\n",
    "            maxx=output[i][j]\n",
    "            imax=j\n",
    "    imax=imax+1\n",
    "    if(int(lab1[i][1])==imax):\n",
    "#         print \"hi\"\n",
    "        count=count+1\n",
    "print count\n",
    "acc=(count/(len(test)*1.0))*100\n",
    "print acc"
   ]
  }
 ],
 "metadata": {
  "celltoolbar": "Raw Cell Format",
  "kernelspec": {
   "display_name": "Python 2",
   "language": "python",
   "name": "python2"
  },
  "language_info": {
   "codemirror_mode": {
    "name": "ipython",
    "version": 2
   },
   "file_extension": ".py",
   "mimetype": "text/x-python",
   "name": "python",
   "nbconvert_exporter": "python",
   "pygments_lexer": "ipython2",
   "version": "2.7.13"
  }
 },
 "nbformat": 4,
 "nbformat_minor": 2
}
